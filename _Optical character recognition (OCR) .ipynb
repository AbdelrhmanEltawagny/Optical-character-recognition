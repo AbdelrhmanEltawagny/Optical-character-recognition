{
 "cells": [
  {
   "cell_type": "markdown",
   "id": "a077b056",
   "metadata": {},
   "source": [
    "## Optical character recognition (OCR) :\n",
    "\n",
    "In this project, we extract text from images using openCV library and pytesseract library, and then we read this text using gTTS library.\n",
    "\n",
    "The libraries used in this project are :\n",
    "\n",
    "- cv2 : to read the image.\n",
    "\n",
    "- gTTS (Google-Text-To-Speech) : is a Python library. it's a very easy to use it which converts the text entered, into audio which can be saved as a mp3 file.\n",
    "\n",
    "- playsound : The playsound module is a cross platform module that can play audio files.\n",
    "\n",
    "- pytesseract : Tesseract is an open source text recognition (OCR) Engine. It can read and recognize text in images and is commonly used in python ocr image to text use cases.\n",
    "\n",
    "Note :\n",
    "\n",
    "During the installation of this library, we are not only satisfied with writing pip install pytesseract but we also need to download an extension to this library and install it on the device in order to this library works without errors. we can download this extension from this link : https://digi.bib.uni-mannheim.de/tesseract/tesseract-ocr-w64-setup-v5.2.0.20220712.exe"
   ]
  },
  {
   "cell_type": "code",
   "execution_count": 1,
   "id": "d94f7f24",
   "metadata": {},
   "outputs": [],
   "source": [
    "import cv2\n",
    "from gtts import gTTS \n",
    "from playsound import playsound \n",
    "import pytesseract "
   ]
  },
  {
   "cell_type": "code",
   "execution_count": 2,
   "id": "09bbb060",
   "metadata": {},
   "outputs": [],
   "source": [
    "pytesseract.pytesseract.tesseract_cmd = 'E://work//tesseract.exe' #The path in which the tesseract file is located after installation\n",
    "img = cv2.imread('C://Users//Abdelrhman//Desktop//image.jpg')\n",
    "\n",
    "filewrite = open('text.txt' , 'w')\n",
    "boxes = pytesseract.image_to_data(img)\n",
    "#print(boxes)\n",
    "for idx , val in enumerate(boxes.splitlines()):\n",
    "    if idx != 0 :\n",
    "        val = val.split()\n",
    "        #print(val)\n",
    "        if len(val) == 12 :\n",
    "            x , y , w , h = int(val[6]) , int(val[7]) , int(val[8]) , int(val[9])\n",
    "            cv2.rectangle(img , (x , y) , (x+w , y+h) , (0 , 255 , 0) , 3 )\n",
    "            cv2.putText(img , val[11] , (x , y) , cv2.FONT_HERSHEY_COMPLEX , 0.65, (255,0,0))\n",
    "            filewrite.write(val[11] + ' ')\n",
    "            \n",
    "filewrite.close()\n",
    "fileread = open('text.txt' , 'r')\n",
    "line = fileread.read()\n",
    "if line != ' ' :\n",
    "    speech = gTTS(text = line , slow = False)\n",
    "    speech.save('test.mp3')\n",
    "playsound('test.mp3')   "
   ]
  },
  {
   "cell_type": "code",
   "execution_count": null,
   "id": "7895a72b",
   "metadata": {},
   "outputs": [],
   "source": []
  }
 ],
 "metadata": {
  "kernelspec": {
   "display_name": "Python 3 (ipykernel)",
   "language": "python",
   "name": "python3"
  },
  "language_info": {
   "codemirror_mode": {
    "name": "ipython",
    "version": 3
   },
   "file_extension": ".py",
   "mimetype": "text/x-python",
   "name": "python",
   "nbconvert_exporter": "python",
   "pygments_lexer": "ipython3",
   "version": "3.9.7"
  }
 },
 "nbformat": 4,
 "nbformat_minor": 5
}
